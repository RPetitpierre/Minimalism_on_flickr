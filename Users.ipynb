{
 "cells": [
  {
   "cell_type": "markdown",
   "metadata": {},
   "source": [
    "# Imports"
   ]
  },
  {
   "cell_type": "code",
   "execution_count": 1,
   "metadata": {},
   "outputs": [],
   "source": [
    "import pandas as pd\n",
    "import numpy as np\n",
    "import gc\n",
    "\n",
    "import matplotlib.pyplot as plt\n",
    "import seaborn as sns\n",
    "\n",
    "import warnings\n",
    "warnings.filterwarnings('ignore')"
   ]
  },
  {
   "cell_type": "code",
   "execution_count": 2,
   "metadata": {},
   "outputs": [],
   "source": [
    "from sklearn.ensemble import AdaBoostClassifier, RandomForestClassifier, GradientBoostingClassifier, ExtraTreesClassifier\n",
    "from sklearn.model_selection import train_test_split\n",
    "from sklearn.utils import shuffle\n",
    "\n",
    "from sklearn.discriminant_analysis import LinearDiscriminantAnalysis\n",
    "from sklearn.cluster import MeanShift, KMeans"
   ]
  },
  {
   "cell_type": "code",
   "execution_count": 3,
   "metadata": {},
   "outputs": [],
   "source": [
    "import networkx as nx\n",
    "from community import community_louvain"
   ]
  },
  {
   "cell_type": "markdown",
   "metadata": {},
   "source": [
    "# Prepare data"
   ]
  },
  {
   "cell_type": "code",
   "execution_count": 4,
   "metadata": {},
   "outputs": [
    {
     "data": {
      "text/html": [
       "<div>\n",
       "<style scoped>\n",
       "    .dataframe tbody tr th:only-of-type {\n",
       "        vertical-align: middle;\n",
       "    }\n",
       "\n",
       "    .dataframe tbody tr th {\n",
       "        vertical-align: top;\n",
       "    }\n",
       "\n",
       "    .dataframe thead th {\n",
       "        text-align: right;\n",
       "    }\n",
       "</style>\n",
       "<table border=\"1\" class=\"dataframe\">\n",
       "  <thead>\n",
       "    <tr style=\"text-align: right;\">\n",
       "      <th></th>\n",
       "      <th>index</th>\n",
       "      <th>date</th>\n",
       "      <th>longitude</th>\n",
       "      <th>latitude</th>\n",
       "      <th>colored</th>\n",
       "      <th>shape_ratio</th>\n",
       "      <th>verticality</th>\n",
       "      <th>horizontality</th>\n",
       "      <th>hue</th>\n",
       "      <th>saturation</th>\n",
       "      <th>value</th>\n",
       "    </tr>\n",
       "  </thead>\n",
       "  <tbody>\n",
       "    <tr>\n",
       "      <th>0</th>\n",
       "      <td>10000979206</td>\n",
       "      <td>2013-09-30 00:26:09.0</td>\n",
       "      <td>14.499968</td>\n",
       "      <td>46.053249</td>\n",
       "      <td>1.0</td>\n",
       "      <td>1.0</td>\n",
       "      <td>12.854769</td>\n",
       "      <td>15.17386</td>\n",
       "      <td>70.0</td>\n",
       "      <td>14.0</td>\n",
       "      <td>56.0</td>\n",
       "    </tr>\n",
       "  </tbody>\n",
       "</table>\n",
       "</div>"
      ],
      "text/plain": [
       "         index                   date  longitude   latitude  colored  \\\n",
       "0  10000979206  2013-09-30 00:26:09.0  14.499968  46.053249      1.0   \n",
       "\n",
       "   shape_ratio  verticality  horizontality   hue  saturation  value  \n",
       "0          1.0    12.854769       15.17386  70.0        14.0   56.0  "
      ]
     },
     "execution_count": 4,
     "metadata": {},
     "output_type": "execute_result"
    }
   ],
   "source": [
    "df = pd.read_csv('data/corpus_metaIP.csv').drop(columns = 'Unnamed: 0')\n",
    "df = df.dropna(subset=['longitude'])\n",
    "df = df.drop(columns = ['image_direct_url', 'aws_path', 'extracted'])\n",
    "df.head(1)"
   ]
  },
  {
   "cell_type": "code",
   "execution_count": 5,
   "metadata": {},
   "outputs": [
    {
     "data": {
      "text/html": [
       "<div>\n",
       "<style scoped>\n",
       "    .dataframe tbody tr th:only-of-type {\n",
       "        vertical-align: middle;\n",
       "    }\n",
       "\n",
       "    .dataframe tbody tr th {\n",
       "        vertical-align: top;\n",
       "    }\n",
       "\n",
       "    .dataframe thead th {\n",
       "        text-align: right;\n",
       "    }\n",
       "</style>\n",
       "<table border=\"1\" class=\"dataframe\">\n",
       "  <thead>\n",
       "    <tr style=\"text-align: right;\">\n",
       "      <th></th>\n",
       "      <th>index</th>\n",
       "      <th>user_identifier</th>\n",
       "      <th>license_name</th>\n",
       "      <th>tag_cluster</th>\n",
       "      <th>external_upload</th>\n",
       "    </tr>\n",
       "  </thead>\n",
       "  <tbody>\n",
       "    <tr>\n",
       "      <th>0</th>\n",
       "      <td>10000979206</td>\n",
       "      <td>66172503@N00</td>\n",
       "      <td>Attribution License</td>\n",
       "      <td>1</td>\n",
       "      <td>instagram</td>\n",
       "    </tr>\n",
       "  </tbody>\n",
       "</table>\n",
       "</div>"
      ],
      "text/plain": [
       "         index user_identifier         license_name  tag_cluster  \\\n",
       "0  10000979206    66172503@N00  Attribution License            1   \n",
       "\n",
       "  external_upload  \n",
       "0       instagram  "
      ]
     },
     "execution_count": 5,
     "metadata": {},
     "output_type": "execute_result"
    }
   ],
   "source": [
    "df_users = pd.read_json('focused_metadata.json').reset_index().drop(columns=['level_0'])\n",
    "df_users = df_users.dropna(subset=['longitude'])\n",
    "df_users = df_users.drop(columns = ['date', 'longitude', 'latitude', 'camera', 'json_autotags'])\n",
    "df_users.head(1)"
   ]
  },
  {
   "cell_type": "code",
   "execution_count": 6,
   "metadata": {},
   "outputs": [],
   "source": [
    "df = pd.merge(df, df_users, on = 'index', how = 'inner')"
   ]
  },
  {
   "cell_type": "code",
   "execution_count": 7,
   "metadata": {},
   "outputs": [
    {
     "data": {
      "text/html": [
       "<div>\n",
       "<style scoped>\n",
       "    .dataframe tbody tr th:only-of-type {\n",
       "        vertical-align: middle;\n",
       "    }\n",
       "\n",
       "    .dataframe tbody tr th {\n",
       "        vertical-align: top;\n",
       "    }\n",
       "\n",
       "    .dataframe thead th {\n",
       "        text-align: right;\n",
       "    }\n",
       "</style>\n",
       "<table border=\"1\" class=\"dataframe\">\n",
       "  <thead>\n",
       "    <tr style=\"text-align: right;\">\n",
       "      <th></th>\n",
       "      <th>index</th>\n",
       "      <th>date</th>\n",
       "      <th>longitude</th>\n",
       "      <th>latitude</th>\n",
       "      <th>colored</th>\n",
       "      <th>shape_ratio</th>\n",
       "      <th>verticality</th>\n",
       "      <th>horizontality</th>\n",
       "      <th>hue</th>\n",
       "      <th>saturation</th>\n",
       "      <th>value</th>\n",
       "      <th>user_identifier</th>\n",
       "      <th>license_name</th>\n",
       "      <th>tag_cluster</th>\n",
       "      <th>external_upload</th>\n",
       "    </tr>\n",
       "  </thead>\n",
       "  <tbody>\n",
       "    <tr>\n",
       "      <th>0</th>\n",
       "      <td>10000979206</td>\n",
       "      <td>2013-09-30 00:26:09.0</td>\n",
       "      <td>14.499968</td>\n",
       "      <td>46.053249</td>\n",
       "      <td>1.0</td>\n",
       "      <td>1.0</td>\n",
       "      <td>12.854769</td>\n",
       "      <td>15.17386</td>\n",
       "      <td>70.0</td>\n",
       "      <td>14.0</td>\n",
       "      <td>56.0</td>\n",
       "      <td>66172503@N00</td>\n",
       "      <td>Attribution License</td>\n",
       "      <td>1</td>\n",
       "      <td>instagram</td>\n",
       "    </tr>\n",
       "  </tbody>\n",
       "</table>\n",
       "</div>"
      ],
      "text/plain": [
       "         index                   date  longitude   latitude  colored  \\\n",
       "0  10000979206  2013-09-30 00:26:09.0  14.499968  46.053249      1.0   \n",
       "\n",
       "   shape_ratio  verticality  horizontality   hue  saturation  value  \\\n",
       "0          1.0    12.854769       15.17386  70.0        14.0   56.0   \n",
       "\n",
       "  user_identifier         license_name  tag_cluster external_upload  \n",
       "0    66172503@N00  Attribution License            1       instagram  "
      ]
     },
     "execution_count": 7,
     "metadata": {},
     "output_type": "execute_result"
    }
   ],
   "source": [
    "df.head(1)"
   ]
  },
  {
   "cell_type": "code",
   "execution_count": 8,
   "metadata": {},
   "outputs": [],
   "source": [
    "sns.set(rc={'figure.figsize':(16,10)})\n",
    "sns.set_style(\"ticks\")\n",
    "sns.set_context('notebook', font_scale=1.5)"
   ]
  },
  {
   "cell_type": "code",
   "execution_count": 9,
   "metadata": {},
   "outputs": [
    {
     "data": {
      "image/png": "[encoded data removed]",
      "text/plain": [
       "<Figure size 1152x720 with 1 Axes>"
      ]
     },
     "metadata": {},
     "output_type": "display_data"
    }
   ],
   "source": [
    "ax = df['user_identifier'].value_counts().plot(logx = True, logy = True, \n",
    "                                          title = 'Cumulative plot of the number of photos posted per user \\n')\n",
    "ax.set_xlabel('Users')\n",
    "ax.set_ylabel('Number of photos posted')\n",
    "ax;"
   ]
  },
  {
   "cell_type": "markdown",
   "metadata": {},
   "source": [
    "## Compute network edges"
   ]
  },
  {
   "cell_type": "code",
   "execution_count": 10,
   "metadata": {},
   "outputs": [],
   "source": [
    "dummies = pd.get_dummies(df[['license_name', 'external_upload']]).rename(\n",
    "    columns = {'license_name_Attribution License': 'CC BY',\n",
    "              'license_name_Attribution-NoDerivs License': 'CC BY-ND',\n",
    "              'license_name_Attribution-NonCommercial License': 'CC BY-NC',\n",
    "              'license_name_Attribution-NonCommercial-NoDerivs License': 'CC BY-ND-NC',\n",
    "              'license_name_Attribution-NonCommercial-ShareAlike License': 'CC BY-NC-SA',\n",
    "              'license_name_Attribution-ShareAlike License': 'CC BY-SA'})"
   ]
  },
  {
   "cell_type": "code",
   "execution_count": 11,
   "metadata": {},
   "outputs": [],
   "source": [
    "dummies['ND'] = dummies['CC BY-ND'] + dummies['CC BY-ND-NC']\n",
    "dummies['NC'] = dummies['CC BY-NC'] + dummies['CC BY-ND-NC'] + dummies['CC BY-NC-SA']\n",
    "dummies['SA'] = dummies['CC BY-NC-SA'] + dummies['CC BY-SA']"
   ]
  },
  {
   "cell_type": "code",
   "execution_count": 12,
   "metadata": {},
   "outputs": [],
   "source": [
    "dummies = dummies.drop(columns = ['CC BY', 'CC BY-ND', 'CC BY-NC', 'CC BY-SA', 'CC BY-ND-NC', 'CC BY-NC-SA'])"
   ]
  },
  {
   "cell_type": "code",
   "execution_count": 13,
   "metadata": {},
   "outputs": [],
   "source": [
    "dummies = dummies.reset_index()"
   ]
  },
  {
   "cell_type": "code",
   "execution_count": 14,
   "metadata": {},
   "outputs": [],
   "source": [
    "trends = pd.get_dummies(df['tag_cluster']).rename(\n",
    "    columns = {0: 'trend_0', 1: 'trend_1', 2: 'trend_2', 3: 'trend_3', 4: 'trend_4'})"
   ]
  },
  {
   "cell_type": "code",
   "execution_count": 15,
   "metadata": {},
   "outputs": [],
   "source": [
    "trends = trends.reset_index()"
   ]
  },
  {
   "cell_type": "code",
   "execution_count": 16,
   "metadata": {},
   "outputs": [],
   "source": [
    "dummies = pd.merge(dummies, trends, on ='index')"
   ]
  },
  {
   "cell_type": "code",
   "execution_count": 17,
   "metadata": {},
   "outputs": [
    {
     "data": {
      "text/html": [
       "<div>\n",
       "<style scoped>\n",
       "    .dataframe tbody tr th:only-of-type {\n",
       "        vertical-align: middle;\n",
       "    }\n",
       "\n",
       "    .dataframe tbody tr th {\n",
       "        vertical-align: top;\n",
       "    }\n",
       "\n",
       "    .dataframe thead th {\n",
       "        text-align: right;\n",
       "    }\n",
       "</style>\n",
       "<table border=\"1\" class=\"dataframe\">\n",
       "  <thead>\n",
       "    <tr style=\"text-align: right;\">\n",
       "      <th></th>\n",
       "      <th>index</th>\n",
       "      <th>external_upload_astrometrydotnet</th>\n",
       "      <th>external_upload_camera</th>\n",
       "      <th>external_upload_dopplr</th>\n",
       "      <th>external_upload_flickrandroidapp</th>\n",
       "      <th>external_upload_flickriosapp</th>\n",
       "      <th>external_upload_foursquare</th>\n",
       "      <th>external_upload_geo</th>\n",
       "      <th>external_upload_geocode</th>\n",
       "      <th>external_upload_http</th>\n",
       "      <th>...</th>\n",
       "      <th>external_upload_lastfm</th>\n",
       "      <th>external_upload_taxonomy</th>\n",
       "      <th>ND</th>\n",
       "      <th>NC</th>\n",
       "      <th>SA</th>\n",
       "      <th>trend_0</th>\n",
       "      <th>trend_1</th>\n",
       "      <th>trend_2</th>\n",
       "      <th>trend_3</th>\n",
       "      <th>trend_4</th>\n",
       "    </tr>\n",
       "  </thead>\n",
       "  <tbody>\n",
       "    <tr>\n",
       "      <th>0</th>\n",
       "      <td>0</td>\n",
       "      <td>0</td>\n",
       "      <td>0</td>\n",
       "      <td>0</td>\n",
       "      <td>0</td>\n",
       "      <td>0</td>\n",
       "      <td>0</td>\n",
       "      <td>0</td>\n",
       "      <td>0</td>\n",
       "      <td>0</td>\n",
       "      <td>...</td>\n",
       "      <td>0</td>\n",
       "      <td>0</td>\n",
       "      <td>0</td>\n",
       "      <td>0</td>\n",
       "      <td>0</td>\n",
       "      <td>0</td>\n",
       "      <td>1</td>\n",
       "      <td>0</td>\n",
       "      <td>0</td>\n",
       "      <td>0</td>\n",
       "    </tr>\n",
       "  </tbody>\n",
       "</table>\n",
       "<p>1 rows × 21 columns</p>\n",
       "</div>"
      ],
      "text/plain": [
       "   index  external_upload_astrometrydotnet  external_upload_camera  \\\n",
       "0      0                                 0                       0   \n",
       "\n",
       "   external_upload_dopplr  external_upload_flickrandroidapp  \\\n",
       "0                       0                                 0   \n",
       "\n",
       "   external_upload_flickriosapp  external_upload_foursquare  \\\n",
       "0                             0                           0   \n",
       "\n",
       "   external_upload_geo  external_upload_geocode  external_upload_http  \\\n",
       "0                    0                        0                     0   \n",
       "\n",
       "    ...     external_upload_lastfm  external_upload_taxonomy  ND  NC  SA  \\\n",
       "0   ...                          0                         0   0   0   0   \n",
       "\n",
       "   trend_0  trend_1  trend_2  trend_3  trend_4  \n",
       "0        0        1        0        0        0  \n",
       "\n",
       "[1 rows x 21 columns]"
      ]
     },
     "execution_count": 17,
     "metadata": {},
     "output_type": "execute_result"
    }
   ],
   "source": [
    "dummies.head(1)"
   ]
  },
  {
   "cell_type": "code",
   "execution_count": 18,
   "metadata": {},
   "outputs": [
    {
     "data": {
      "text/html": [
       "<div>\n",
       "<style scoped>\n",
       "    .dataframe tbody tr th:only-of-type {\n",
       "        vertical-align: middle;\n",
       "    }\n",
       "\n",
       "    .dataframe tbody tr th {\n",
       "        vertical-align: top;\n",
       "    }\n",
       "\n",
       "    .dataframe thead th {\n",
       "        text-align: right;\n",
       "    }\n",
       "</style>\n",
       "<table border=\"1\" class=\"dataframe\">\n",
       "  <thead>\n",
       "    <tr style=\"text-align: right;\">\n",
       "      <th></th>\n",
       "      <th>longitude</th>\n",
       "      <th>latitude</th>\n",
       "      <th>colored</th>\n",
       "      <th>shape_ratio</th>\n",
       "      <th>verticality</th>\n",
       "      <th>horizontality</th>\n",
       "      <th>hue</th>\n",
       "      <th>saturation</th>\n",
       "      <th>value</th>\n",
       "      <th>user_identifier</th>\n",
       "      <th>...</th>\n",
       "      <th>external_upload_lastfm</th>\n",
       "      <th>external_upload_taxonomy</th>\n",
       "      <th>ND</th>\n",
       "      <th>NC</th>\n",
       "      <th>SA</th>\n",
       "      <th>trend_0</th>\n",
       "      <th>trend_1</th>\n",
       "      <th>trend_2</th>\n",
       "      <th>trend_3</th>\n",
       "      <th>trend_4</th>\n",
       "    </tr>\n",
       "  </thead>\n",
       "  <tbody>\n",
       "    <tr>\n",
       "      <th>0</th>\n",
       "      <td>14.499968</td>\n",
       "      <td>46.053249</td>\n",
       "      <td>1.0</td>\n",
       "      <td>1.0</td>\n",
       "      <td>12.854769</td>\n",
       "      <td>15.17386</td>\n",
       "      <td>70.0</td>\n",
       "      <td>14.0</td>\n",
       "      <td>56.0</td>\n",
       "      <td>66172503@N00</td>\n",
       "      <td>...</td>\n",
       "      <td>0</td>\n",
       "      <td>0</td>\n",
       "      <td>0</td>\n",
       "      <td>0</td>\n",
       "      <td>0</td>\n",
       "      <td>0</td>\n",
       "      <td>1</td>\n",
       "      <td>0</td>\n",
       "      <td>0</td>\n",
       "      <td>0</td>\n",
       "    </tr>\n",
       "  </tbody>\n",
       "</table>\n",
       "<p>1 rows × 30 columns</p>\n",
       "</div>"
      ],
      "text/plain": [
       "   longitude   latitude  colored  shape_ratio  verticality  horizontality  \\\n",
       "0  14.499968  46.053249      1.0          1.0    12.854769       15.17386   \n",
       "\n",
       "    hue  saturation  value user_identifier   ...     external_upload_lastfm  \\\n",
       "0  70.0        14.0   56.0    66172503@N00   ...                          0   \n",
       "\n",
       "   external_upload_taxonomy  ND  NC  SA  trend_0  trend_1  trend_2  trend_3  \\\n",
       "0                         0   0   0   0        0        1        0        0   \n",
       "\n",
       "   trend_4  \n",
       "0        0  \n",
       "\n",
       "[1 rows x 30 columns]"
      ]
     },
     "execution_count": 18,
     "metadata": {},
     "output_type": "execute_result"
    }
   ],
   "source": [
    "df = df.drop(columns = 'index').reset_index()\n",
    "df = pd.merge(df, dummies, on = 'index').drop(columns = 'index')\n",
    "df = df.drop(columns = ['date', 'license_name', 'tag_cluster', 'external_upload'])\n",
    "df.head(1)"
   ]
  },
  {
   "cell_type": "code",
   "execution_count": 19,
   "metadata": {},
   "outputs": [],
   "source": [
    "df = df.drop(columns = ['external_upload_astrometrydotnet', 'external_upload_camera',\n",
    "                       'external_upload_dopplr', 'external_upload_foursquare', 'external_upload_geo',\n",
    "                       'external_upload_http', 'external_upload_geocode', 'external_upload_lastfm'])"
   ]
  },
  {
   "cell_type": "code",
   "execution_count": 20,
   "metadata": {},
   "outputs": [
    {
     "name": "stdout",
     "output_type": "stream",
     "text": [
      "41091\n",
      "15017\n"
     ]
    }
   ],
   "source": [
    "users = df['user_identifier'].value_counts()\n",
    "print(len(users))\n",
    "print(len(users[users >= 3]))"
   ]
  },
  {
   "cell_type": "code",
   "execution_count": 40,
   "metadata": {},
   "outputs": [],
   "source": [
    "groupby_user = df.groupby(by = 'user_identifier').mean()"
   ]
  },
  {
   "cell_type": "code",
   "execution_count": 41,
   "metadata": {},
   "outputs": [],
   "source": [
    "groupby_user = groupby_user.iloc[users[users >= 20]]"
   ]
  },
  {
   "cell_type": "code",
   "execution_count": 42,
   "metadata": {},
   "outputs": [
    {
     "data": {
      "text/plain": [
       "1514"
      ]
     },
     "execution_count": 42,
     "metadata": {},
     "output_type": "execute_result"
    }
   ],
   "source": [
    "len(groupby_user)"
   ]
  },
  {
   "cell_type": "code",
   "execution_count": 43,
   "metadata": {},
   "outputs": [],
   "source": [
    "# Normalize\n",
    "\n",
    "for col in groupby_user.columns:  \n",
    "    groupby_user[col] = (groupby_user[col] - groupby_user[col].min())/(\n",
    "        groupby_user[col].max() - groupby_user[col].min())"
   ]
  },
  {
   "cell_type": "code",
   "execution_count": 44,
   "metadata": {},
   "outputs": [],
   "source": [
    "groupby_user = groupby_user.drop(columns = 'colored')"
   ]
  },
  {
   "cell_type": "code",
   "execution_count": 48,
   "metadata": {},
   "outputs": [
    {
     "data": {
      "text/plain": [
       "1500"
      ]
     },
     "execution_count": 48,
     "metadata": {},
     "output_type": "execute_result"
    }
   ],
   "source": [
    "len(groupby_user)"
   ]
  },
  {
   "cell_type": "code",
   "execution_count": 47,
   "metadata": {},
   "outputs": [],
   "source": [
    "groupby_user = groupby_user.dropna()"
   ]
  },
  {
   "cell_type": "code",
   "execution_count": 50,
   "metadata": {},
   "outputs": [],
   "source": [
    "def compute_user_distance(groupby_user, subset = ''):\n",
    "    \n",
    "    array = np.zeros((len(groupby_user), len(groupby_user)))\n",
    "    done = np.zeros((len(groupby_user), len(groupby_user)))\n",
    "    \n",
    "    if subset != '':\n",
    "        feat = groupby_user[subset]\n",
    "    else:\n",
    "        feat = groupby_user\n",
    "    \n",
    "    feat = feat.reset_index().drop(columns = 'user_identifier')\n",
    "    \n",
    "    for ind_1, user_1 in feat.iterrows():\n",
    "        for ind_2, user_2 in feat.iterrows():\n",
    "            if (done[ind_2, ind_1] == 0) & (ind_1 != ind_2):\n",
    "                score = 1e-3\n",
    "                for col in feat.columns:\n",
    "                    score += (user_1[col] - user_2[col])**2\n",
    "                if score < 1:\n",
    "                    array[ind_1, ind_2] = 1/score\n",
    "                done[ind_1, ind_2] = 1\n",
    "            \n",
    "    return array"
   ]
  },
  {
   "cell_type": "code",
   "execution_count": 51,
   "metadata": {},
   "outputs": [
    {
     "data": {
      "text/plain": [
       "Index(['longitude', 'latitude', 'shape_ratio', 'verticality', 'horizontality',\n",
       "       'hue', 'saturation', 'value', 'external_upload_flickrandroidapp',\n",
       "       'external_upload_flickriosapp', 'external_upload_instagram',\n",
       "       'external_upload_taxonomy', 'ND', 'NC', 'SA', 'trend_0', 'trend_1',\n",
       "       'trend_2', 'trend_3', 'trend_4'],\n",
       "      dtype='object')"
      ]
     },
     "execution_count": 51,
     "metadata": {},
     "output_type": "execute_result"
    }
   ],
   "source": [
    "groupby_user.columns"
   ]
  },
  {
   "cell_type": "code",
   "execution_count": 52,
   "metadata": {},
   "outputs": [
    {
     "data": {
      "text/plain": [
       "1500"
      ]
     },
     "execution_count": 52,
     "metadata": {},
     "output_type": "execute_result"
    }
   ],
   "source": [
    "len(groupby_user)"
   ]
  },
  {
   "cell_type": "code",
   "execution_count": 53,
   "metadata": {},
   "outputs": [
    {
     "data": {
      "text/plain": [
       "7"
      ]
     },
     "execution_count": 53,
     "metadata": {},
     "output_type": "execute_result"
    }
   ],
   "source": [
    "gc.collect()"
   ]
  },
  {
   "cell_type": "code",
   "execution_count": 54,
   "metadata": {},
   "outputs": [],
   "source": [
    "pd.Series(groupby_user.index).to_json('networks/index_small.json')"
   ]
  },
  {
   "cell_type": "code",
   "execution_count": 55,
   "metadata": {},
   "outputs": [
    {
     "data": {
      "text/plain": [
       "0"
      ]
     },
     "execution_count": 55,
     "metadata": {},
     "output_type": "execute_result"
    }
   ],
   "source": [
    "gc.collect()"
   ]
  },
  {
   "cell_type": "code",
   "execution_count": 56,
   "metadata": {
    "scrolled": false
   },
   "outputs": [],
   "source": [
    "location = compute_user_distance(groupby_user, subset = ['longitude', 'latitude'])\n",
    "location = pd.DataFrame(location)\n",
    "location.to_csv('networks/location_small.csv')"
   ]
  },
  {
   "cell_type": "code",
   "execution_count": 57,
   "metadata": {},
   "outputs": [
    {
     "data": {
      "text/plain": [
       "28"
      ]
     },
     "execution_count": 57,
     "metadata": {},
     "output_type": "execute_result"
    }
   ],
   "source": [
    "gc.collect()"
   ]
  },
  {
   "cell_type": "code",
   "execution_count": 58,
   "metadata": {},
   "outputs": [],
   "source": [
    "cc = compute_user_distance(groupby_user, subset = ['ND', 'NC', 'SA'])\n",
    "cc = pd.DataFrame(cc)\n",
    "cc.to_csv('networks/cc_small.csv')"
   ]
  },
  {
   "cell_type": "code",
   "execution_count": 59,
   "metadata": {},
   "outputs": [
    {
     "data": {
      "text/plain": [
       "28"
      ]
     },
     "execution_count": 59,
     "metadata": {},
     "output_type": "execute_result"
    }
   ],
   "source": [
    "gc.collect()"
   ]
  },
  {
   "cell_type": "code",
   "execution_count": 60,
   "metadata": {},
   "outputs": [],
   "source": [
    "trends = compute_user_distance(groupby_user, subset = ['trend_0', 'trend_1',\n",
    "                                                               'trend_2', 'trend_3', 'trend_4'])\n",
    "trends = pd.DataFrame(trends)\n",
    "trends.to_csv('networks/trends_small.csv')"
   ]
  },
  {
   "cell_type": "code",
   "execution_count": 61,
   "metadata": {},
   "outputs": [
    {
     "data": {
      "text/plain": [
       "35"
      ]
     },
     "execution_count": 61,
     "metadata": {},
     "output_type": "execute_result"
    }
   ],
   "source": [
    "gc.collect()"
   ]
  },
  {
   "cell_type": "code",
   "execution_count": 62,
   "metadata": {},
   "outputs": [],
   "source": [
    "image = compute_user_distance(groupby_user, subset = ['shape_ratio', 'verticality', 'horizontality',\n",
    "       'hue', 'saturation', 'value'])\n",
    "image = pd.DataFrame(image)\n",
    "image.to_csv('networks/image_small.csv')"
   ]
  },
  {
   "cell_type": "code",
   "execution_count": 63,
   "metadata": {},
   "outputs": [
    {
     "data": {
      "text/plain": [
       "28"
      ]
     },
     "execution_count": 63,
     "metadata": {},
     "output_type": "execute_result"
    }
   ],
   "source": [
    "gc.collect()"
   ]
  },
  {
   "cell_type": "code",
   "execution_count": 64,
   "metadata": {},
   "outputs": [],
   "source": [
    "upload = compute_user_distance(groupby_user, subset = ['external_upload_flickrandroidapp',\n",
    "       'external_upload_flickriosapp', 'external_upload_instagram'])\n",
    "upload = pd.DataFrame(upload)\n",
    "upload.to_csv('networks/upload_small.csv')"
   ]
  },
  {
   "cell_type": "code",
   "execution_count": 65,
   "metadata": {},
   "outputs": [
    {
     "data": {
      "text/plain": [
       "28"
      ]
     },
     "execution_count": 65,
     "metadata": {},
     "output_type": "execute_result"
    }
   ],
   "source": [
    "gc.collect()"
   ]
  },
  {
   "cell_type": "markdown",
   "metadata": {},
   "source": [
    "# Networks analysis"
   ]
  },
  {
   "cell_type": "code",
   "execution_count": 103,
   "metadata": {},
   "outputs": [],
   "source": [
    "def graph_analysis(file, threshold = 0):\n",
    "    \n",
    "    network = pd.read_csv('networks/' + file).drop(columns = 'Unnamed: 0')\n",
    "    network = network.astype('int')\n",
    "    network[network < threshold] = 0\n",
    "\n",
    "    G = nx.Graph()\n",
    "\n",
    "    list_edges = []\n",
    "\n",
    "    for col in network.columns:\n",
    "        for ind, item in network[col].iteritems():\n",
    "            if item > 0:\n",
    "                list_edges.append((ind, int(col), item))\n",
    "\n",
    "    G.add_weighted_edges_from(list_edges)\n",
    "\n",
    "    print(nx.info(G))\n",
    "\n",
    "    print(\"Network sparsity: %.4f\" %nx.density(G))\n",
    "\n",
    "    print('Fully connected graph:', nx.is_connected(G))\n",
    "    comp = list(nx.connected_components(G))\n",
    "    print('The graph contains', len(comp), 'connected components')\n",
    "    \n",
    "    return G"
   ]
  },
  {
   "cell_type": "code",
   "execution_count": 133,
   "metadata": {},
   "outputs": [],
   "source": [
    "def advanced_analysis(graph):\n",
    "    \n",
    "    print('Transitivity:', '%.3f'%nx.transitivity(graph))\n",
    "    \n",
    "    comp = list(nx.connected_components(graph))\n",
    "    largest_comp = max(comp, key=len)\n",
    "    percentage_lcc = len(largest_comp)/ graph.number_of_nodes() * 100\n",
    "    print('The largest component has ', len(largest_comp), 'nodes', 'accounting for %.2f'% percentage_lcc, '% of the nodes')\n",
    "    \n",
    "    betweenness = nx.betweenness_centrality(graph)\n",
    "    ax = pd.Series(betweenness).sort_values(ascending = False).reset_index().drop(\n",
    "    columns = 'index').rename(columns = {0: 'Users'}).plot(logx=True, logy=True)\n",
    "    ax.set_xlabel('Nodes')\n",
    "    ax.set_ylabel('Betweenness centrality')\n",
    "    ax  "
   ]
  },
  {
   "cell_type": "markdown",
   "metadata": {},
   "source": [
    "## Platform network"
   ]
  },
  {
   "cell_type": "code",
   "execution_count": 108,
   "metadata": {},
   "outputs": [
    {
     "name": "stdout",
     "output_type": "stream",
     "text": [
      "Name: \n",
      "Type: Graph\n",
      "Number of nodes: 1500\n",
      "Number of edges: 162882\n",
      "Average degree: 217.1760\n",
      "Network sparsity: 0.1449\n",
      "Fully connected graph: False\n",
      "The graph contains 2 connected components\n"
     ]
    }
   ],
   "source": [
    "trends = graph_analysis('trends_small.csv', threshold = 5)"
   ]
  },
  {
   "cell_type": "code",
   "execution_count": 107,
   "metadata": {},
   "outputs": [
    {
     "name": "stdout",
     "output_type": "stream",
     "text": [
      "Name: \n",
      "Type: Graph\n",
      "Number of nodes: 1495\n",
      "Number of edges: 191201\n",
      "Average degree: 255.7873\n",
      "Network sparsity: 0.1712\n",
      "Fully connected graph: False\n",
      "The graph contains 2 connected components\n"
     ]
    }
   ],
   "source": [
    "image = graph_analysis('image_small.csv', threshold = 5)"
   ]
  },
  {
   "cell_type": "code",
   "execution_count": 105,
   "metadata": {},
   "outputs": [
    {
     "name": "stdout",
     "output_type": "stream",
     "text": [
      "Name: \n",
      "Type: Graph\n",
      "Number of nodes: 1499\n",
      "Number of edges: 225453\n",
      "Average degree: 300.8045\n",
      "Network sparsity: 0.2008\n",
      "Fully connected graph: False\n",
      "The graph contains 6 connected components\n"
     ]
    }
   ],
   "source": [
    "cc = graph_analysis('cc_small.csv', threshold = 5)"
   ]
  },
  {
   "cell_type": "code",
   "execution_count": 106,
   "metadata": {},
   "outputs": [
    {
     "name": "stdout",
     "output_type": "stream",
     "text": [
      "Name: \n",
      "Type: Graph\n",
      "Number of nodes: 1500\n",
      "Number of edges: 861983\n",
      "Average degree: 1149.3107\n",
      "Network sparsity: 0.7667\n",
      "Fully connected graph: True\n",
      "The graph contains 1 connected components\n"
     ]
    }
   ],
   "source": [
    "location = graph_analysis('location_small.csv', threshold = 5)"
   ]
  },
  {
   "cell_type": "code",
   "execution_count": 104,
   "metadata": {},
   "outputs": [
    {
     "name": "stdout",
     "output_type": "stream",
     "text": [
      "Name: \n",
      "Type: Graph\n",
      "Number of nodes: 1500\n",
      "Number of edges: 919678\n",
      "Average degree: 1226.2373\n",
      "Network sparsity: 0.8180\n",
      "Fully connected graph: False\n",
      "The graph contains 5 connected components\n"
     ]
    }
   ],
   "source": [
    "upload = graph_analysis('upload_small.csv', threshold = 5)"
   ]
  },
  {
   "cell_type": "code",
   "execution_count": 129,
   "metadata": {},
   "outputs": [
    {
     "name": "stdout",
     "output_type": "stream",
     "text": [
      "Transitivity: 0.949\n",
      "The largest component has  1492 nodes accounting for 99.47 % of the nodes\n"
     ]
    },
    {
     "data": {
      "image/png": "[encoded data removed]",
      "text/plain": [
       "<Figure size 1152x720 with 1 Axes>"
      ]
     },
     "metadata": {},
     "output_type": "display_data"
    }
   ],
   "source": [
    "advanced_analysis(trends)"
   ]
  },
  {
   "cell_type": "code",
   "execution_count": 134,
   "metadata": {},
   "outputs": [
    {
     "name": "stdout",
     "output_type": "stream",
     "text": [
      "Transitivity: 0.626\n",
      "The largest component has  1489 nodes accounting for 99.60 % of the nodes\n"
     ]
    },
    {
     "data": {
      "image/png": "[encoded data removed]",
      "text/plain": [
       "<Figure size 1152x720 with 1 Axes>"
      ]
     },
     "metadata": {},
     "output_type": "display_data"
    }
   ],
   "source": [
    "advanced_analysis(image)"
   ]
  },
  {
   "cell_type": "code",
   "execution_count": 135,
   "metadata": {},
   "outputs": [
    {
     "name": "stdout",
     "output_type": "stream",
     "text": [
      "Transitivity: 1.000\n",
      "The largest component has  476 nodes accounting for 31.75 % of the nodes\n"
     ]
    },
    {
     "data": {
      "image/png": "[encoded data removed]",
      "text/plain": [
       "<Figure size 1152x720 with 1 Axes>"
      ]
     },
     "metadata": {},
     "output_type": "display_data"
    }
   ],
   "source": [
    "advanced_analysis(cc)"
   ]
  },
  {
   "cell_type": "code",
   "execution_count": 136,
   "metadata": {},
   "outputs": [
    {
     "name": "stdout",
     "output_type": "stream",
     "text": [
      "Transitivity: 0.895\n",
      "The largest component has  1500 nodes accounting for 100.00 % of the nodes\n"
     ]
    },
    {
     "data": {
      "image/png": "[encoded data removed]",
      "text/plain": [
       "<Figure size 1152x720 with 1 Axes>"
      ]
     },
     "metadata": {},
     "output_type": "display_data"
    }
   ],
   "source": [
    "advanced_analysis(location)"
   ]
  },
  {
   "cell_type": "code",
   "execution_count": 137,
   "metadata": {},
   "outputs": [
    {
     "name": "stdout",
     "output_type": "stream",
     "text": [
      "Transitivity: 1.000\n",
      "The largest component has  1359 nodes accounting for 90.60 % of the nodes\n"
     ]
    },
    {
     "data": {
      "image/png": "[encoded data removed]",
      "text/plain": [
       "<Figure size 1152x720 with 1 Axes>"
      ]
     },
     "metadata": {},
     "output_type": "display_data"
    }
   ],
   "source": [
    "advanced_analysis(upload)"
   ]
  },
  {
   "cell_type": "code",
   "execution_count": null,
   "metadata": {},
   "outputs": [],
   "source": []
  },
  {
   "cell_type": "code",
   "execution_count": null,
   "metadata": {},
   "outputs": [],
   "source": []
  },
  {
   "cell_type": "code",
   "execution_count": null,
   "metadata": {},
   "outputs": [],
   "source": []
  }
 ],
 "metadata": {
  "kernelspec": {
   "display_name": "Python 3",
   "language": "python",
   "name": "python3"
  },
  "language_info": {
   "codemirror_mode": {
    "name": "ipython",
    "version": 3
   },
   "file_extension": ".py",
   "mimetype": "text/x-python",
   "name": "python",
   "nbconvert_exporter": "python",
   "pygments_lexer": "ipython3",
   "version": "3.6.7"
  }
 },
 "nbformat": 4,
 "nbformat_minor": 2
}
