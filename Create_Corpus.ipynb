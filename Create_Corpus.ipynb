{
 "cells": [
  {
   "cell_type": "markdown",
   "metadata": {},
   "source": [
    "# Imports"
   ]
  },
  {
   "cell_type": "code",
   "execution_count": 52,
   "metadata": {},
   "outputs": [],
   "source": [
    "import os\n",
    "import csv\n",
    "import bz2\n",
    "import time\n",
    "import re\n",
    "import pandas as pd\n",
    "import numpy as np\n",
    "from io import StringIO\n",
    "import seaborn as sns\n",
    "import re\n",
    "\n",
    "# Silence warnings\n",
    "import warnings\n",
    "warnings.filterwarnings(\"ignore\")\n",
    "pd.options.mode.chained_assignment = None"
   ]
  },
  {
   "cell_type": "code",
   "execution_count": 2,
   "metadata": {},
   "outputs": [],
   "source": [
    "# SPARQL\n",
    "\n",
    "from pyspark.sql import *\n",
    "from pyspark.sql.functions import *\n",
    "from pyspark.sql import SparkSession\n",
    "from pyspark import SparkContext, SparkFiles\n",
    "\n",
    "spark = SparkSession.builder.getOrCreate()\n",
    "sc = spark.sparkContext"
   ]
  },
  {
   "cell_type": "markdown",
   "metadata": {},
   "source": [
    "# Extract bz2"
   ]
  },
  {
   "cell_type": "raw",
   "metadata": {},
   "source": [
    "files = ['yfcc100m_autotags.bz2', 'yfcc100m_places.bz2', 'yfcc100m_dataset.bz2']\n",
    "dirpath = ''"
   ]
  },
  {
   "cell_type": "raw",
   "metadata": {},
   "source": [
    "# Decompress the bz2 files\n",
    "# WARNING : total size is 51Gb for autotags + places + dataset\n",
    "\n",
    "for filename in files:\n",
    "    filepath = os.path.join(dirpath, filename)\n",
    "    newfilepath = os.path.join(dirpath,filename[:-4] + '.csv')\n",
    "    \n",
    "    with open(newfilepath, 'wb') as new_file, open(filepath, 'rb') as file:\n",
    "        decompressor = bz2.BZ2Decompressor()\n",
    "        for data in iter(lambda : file.read(100 * 1024), b''):\n",
    "            new_file.write(decompressor.decompress(data))"
   ]
  },
  {
   "cell_type": "markdown",
   "metadata": {},
   "source": [
    "# Main dataset"
   ]
  },
  {
   "cell_type": "raw",
   "metadata": {},
   "source": [
    "with open('yfcc100m_places.csv', newline='') as csvfile:\n",
    "    \n",
    "    reader = csv.reader(csvfile, delimiter=',', quotechar='|')\n",
    "    for row in reader:\n",
    "        print(row)"
   ]
  },
  {
   "cell_type": "code",
   "execution_count": 3,
   "metadata": {},
   "outputs": [],
   "source": [
    "df_full = spark.read.format(\"csv\").option(\"delimiter\", \"\\t\").load(\"yfcc100m_dataset.csv\")"
   ]
  },
  {
   "cell_type": "code",
   "execution_count": 4,
   "metadata": {},
   "outputs": [],
   "source": [
    "col_names = ['index', 'data_identifier', 'unknown_1', 'user_identifier',\n",
    "              'username', 'date', 'computer_time', 'camera', \n",
    "              'photo_filename', 'description', 'user_tags', 'external_upload_mean',\n",
    "              'longitude', 'latitude', 'unknown_2', 'flickr_url', \n",
    "              'image_direct_url', 'license_name', 'license_doc', 'flickr_photo_pool',\n",
    "              'unknown_3', 'image_identifier_2', 'image_identifier_1', 'format', 'unknown_bool']"
   ]
  },
  {
   "cell_type": "code",
   "execution_count": 5,
   "metadata": {},
   "outputs": [],
   "source": [
    "for i in range(len(col_names)):\n",
    "    df_full = df_full.withColumnRenamed('_c' + str(i), col_names[i])"
   ]
  },
  {
   "cell_type": "code",
   "execution_count": 6,
   "metadata": {
    "collapsed": true
   },
   "outputs": [
    {
     "name": "stdout",
     "output_type": "stream",
     "text": [
      "root\n",
      " |-- index: string (nullable = true)\n",
      " |-- unknown_identifier: string (nullable = true)\n",
      " |-- unknown_1: string (nullable = true)\n",
      " |-- user_identifier: string (nullable = true)\n",
      " |-- username: string (nullable = true)\n",
      " |-- date: string (nullable = true)\n",
      " |-- computer_time: string (nullable = true)\n",
      " |-- camera: string (nullable = true)\n",
      " |-- photo_filename: string (nullable = true)\n",
      " |-- description: string (nullable = true)\n",
      " |-- user_tags: string (nullable = true)\n",
      " |-- external_upload_mean: string (nullable = true)\n",
      " |-- longitude: string (nullable = true)\n",
      " |-- latitude: string (nullable = true)\n",
      " |-- unknown_2: string (nullable = true)\n",
      " |-- flickr_url: string (nullable = true)\n",
      " |-- image_direct_url: string (nullable = true)\n",
      " |-- license_name: string (nullable = true)\n",
      " |-- license_doc: string (nullable = true)\n",
      " |-- flickr_photo_pool: string (nullable = true)\n",
      " |-- unknown_3: string (nullable = true)\n",
      " |-- image_identifier_2: string (nullable = true)\n",
      " |-- image_identifier_1: string (nullable = true)\n",
      " |-- format: string (nullable = true)\n",
      " |-- unknown_bool: string (nullable = true)\n",
      "\n"
     ]
    }
   ],
   "source": [
    "df_full.printSchema()"
   ]
  },
  {
   "cell_type": "code",
   "execution_count": 7,
   "metadata": {
    "collapsed": true
   },
   "outputs": [
    {
     "name": "stdout",
     "output_type": "stream",
     "text": [
      "+-----+------------------+--------------------+---------------+-------------+--------------------+-------------+--------------------+--------------------+--------------------+--------------------+--------------------+----------+---------+---------+--------------------+--------------------+--------------------+--------------------+-----------------+---------+------------------+------------------+------+------------+\n",
      "|index|unknown_identifier|           unknown_1|user_identifier|     username|                date|computer_time|              camera|      photo_filename|         description|           user_tags|external_upload_mean| longitude| latitude|unknown_2|          flickr_url|    image_direct_url|        license_name|         license_doc|flickr_photo_pool|unknown_3|image_identifier_2|image_identifier_1|format|unknown_bool|\n",
      "+-----+------------------+--------------------+---------------+-------------+--------------------+-------------+--------------------+--------------------+--------------------+--------------------+--------------------+----------+---------+---------+--------------------+--------------------+--------------------+--------------------+-----------------+---------+------------------+------------------+------+------------+\n",
      "|    0|        6985418911|4e2f7a26a1dfbf165...|   39089491@N00|    nino63004|2012-02-16 09:56:...|   1331840483|Canon+PowerShot+E...|            IMG_0520|                null|canon,canon+power...|                null|-81.804885|24.550558|       12|http://www.flickr...|http://farm8.stat...|Attribution-NonCo...|http://creativeco...|             7205|        8|        df7747990d|        692d7e0a7f|   jpg|           0|\n",
      "|    1|       10201275523|6ae91cc04fe06697c...|   55289779@N00|   booledozer|2013-10-09 15:30:...|   1381464628|  Panasonic+DMC-ZS10|Images+from+the+i...|                null|                null|                null|-79.365637|43.649708|       16|http://www.flickr...|http://farm6.stat...|Attribution-Share...|http://creativeco...|             5465|        6|        3e6ea67c7f|        f400826feb|   jpg|           0|\n",
      "|    2|        2297552664|b61f252678da02eaf...|    8134076@N03|nathalie.cone|2008-02-27 08:14:...|   1204166915|Canon+PowerShot+S...|denise%27s+peanut...|recipe+here%3A+%3...|                null|                null|      null|     null|     null|http://www.flickr...|http://farm4.stat...|Attribution-NonCo...|http://creativeco...|             3171|        4|        1ee0e8855d|        bed1547a29|   jpg|           0|\n",
      "|    3|        7289030198|b545e6a773632e2e6...|   53430201@N03| sarabeephoto|2012-05-28 00:23:...|   1338233199|Canon+EOS+DIGITAL...|blip+fest+2012+ni...|                null|blip,blip12ny,bli...|                null|-73.985495|40.740067|       15|http://www.flickr...|http://farm8.stat...|Attribution-NonCo...|http://creativeco...|             7231|        8|        1f1ba44113|        bc36823aec|   jpg|           0|\n",
      "|    4|        4140939180|7ef1a7715642be6fa...|   12940050@N02|  enjoiskate8|2009-11-21 08:03:...|   1259417601|PENTAX+Corporatio...|            IMGP7409|                null|2009,amsterdam,cl...|                null|      null|     null|     null|http://www.flickr...|http://farm3.stat...|Attribution-NonCo...|http://creativeco...|             2565|        3|        07aeded917|        da7f4b048e|   jpg|           0|\n",
      "+-----+------------------+--------------------+---------------+-------------+--------------------+-------------+--------------------+--------------------+--------------------+--------------------+--------------------+----------+---------+---------+--------------------+--------------------+--------------------+--------------------+-----------------+---------+------------------+------------------+------+------------+\n",
      "only showing top 5 rows\n",
      "\n"
     ]
    }
   ],
   "source": [
    "df_full.show(5)"
   ]
  },
  {
   "cell_type": "code",
   "execution_count": 8,
   "metadata": {
    "collapsed": true
   },
   "outputs": [
    {
     "name": "stdout",
     "output_type": "stream",
     "text": [
      "http://www.flickr.com/photos/39089491@N00/6985418911/\n",
      "http://www.flickr.com/photos/55289779@N00/10201275523/\n",
      "http://www.flickr.com/photos/8134076@N03/2297552664/\n",
      "http://www.flickr.com/photos/53430201@N03/7289030198/\n",
      "http://www.flickr.com/photos/12940050@N02/4140939180/\n",
      "http://www.flickr.com/photos/80547277@N00/9506922316/\n",
      "http://www.flickr.com/photos/42132616@N04/4436463882/\n",
      "http://www.flickr.com/photos/78969707@N00/4572998878/\n",
      "http://www.flickr.com/photos/97468058@N00/9329902958/\n",
      "http://www.flickr.com/photos/36813788@N00/3174965401/\n"
     ]
    }
   ],
   "source": [
    "n = 10\n",
    "for i in range(n):\n",
    "    print(df_full.take(n)[i]['flickr_url'])"
   ]
  },
  {
   "cell_type": "code",
   "execution_count": 10,
   "metadata": {
    "collapsed": true
   },
   "outputs": [
    {
     "ename": "KeyboardInterrupt",
     "evalue": "",
     "output_type": "error",
     "traceback": [
      "\u001b[0;31m---------------------------------------------------------------------------\u001b[0m",
      "\u001b[0;31mKeyboardInterrupt\u001b[0m                         Traceback (most recent call last)",
      "\u001b[0;32m<ipython-input-10-b0f9502add06>\u001b[0m in \u001b[0;36m<module>\u001b[0;34m()\u001b[0m\n\u001b[0;32m----> 1\u001b[0;31m \u001b[0mcount\u001b[0m \u001b[0;34m=\u001b[0m \u001b[0mdf\u001b[0m\u001b[0;34m.\u001b[0m\u001b[0mcount\u001b[0m\u001b[0;34m(\u001b[0m\u001b[0;34m)\u001b[0m\u001b[0;34m\u001b[0m\u001b[0;34m\u001b[0m\u001b[0m\n\u001b[0m\u001b[1;32m      2\u001b[0m \u001b[0mcount\u001b[0m\u001b[0;34m\u001b[0m\u001b[0;34m\u001b[0m\u001b[0m\n",
      "\u001b[0;32m/anaconda3/lib/python3.6/site-packages/pyspark/sql/dataframe.py\u001b[0m in \u001b[0;36mcount\u001b[0;34m(self)\u001b[0m\n\u001b[1;32m    453\u001b[0m         \u001b[0;36m2\u001b[0m\u001b[0;34m\u001b[0m\u001b[0;34m\u001b[0m\u001b[0m\n\u001b[1;32m    454\u001b[0m         \"\"\"\n\u001b[0;32m--> 455\u001b[0;31m         \u001b[0;32mreturn\u001b[0m \u001b[0mint\u001b[0m\u001b[0;34m(\u001b[0m\u001b[0mself\u001b[0m\u001b[0;34m.\u001b[0m\u001b[0m_jdf\u001b[0m\u001b[0;34m.\u001b[0m\u001b[0mcount\u001b[0m\u001b[0;34m(\u001b[0m\u001b[0;34m)\u001b[0m\u001b[0;34m)\u001b[0m\u001b[0;34m\u001b[0m\u001b[0;34m\u001b[0m\u001b[0m\n\u001b[0m\u001b[1;32m    456\u001b[0m \u001b[0;34m\u001b[0m\u001b[0m\n\u001b[1;32m    457\u001b[0m     \u001b[0;34m@\u001b[0m\u001b[0mignore_unicode_prefix\u001b[0m\u001b[0;34m\u001b[0m\u001b[0;34m\u001b[0m\u001b[0m\n",
      "\u001b[0;32m/anaconda3/lib/python3.6/site-packages/py4j/java_gateway.py\u001b[0m in \u001b[0;36m__call__\u001b[0;34m(self, *args)\u001b[0m\n\u001b[1;32m   1253\u001b[0m             \u001b[0mproto\u001b[0m\u001b[0;34m.\u001b[0m\u001b[0mEND_COMMAND_PART\u001b[0m\u001b[0;34m\u001b[0m\u001b[0;34m\u001b[0m\u001b[0m\n\u001b[1;32m   1254\u001b[0m \u001b[0;34m\u001b[0m\u001b[0m\n\u001b[0;32m-> 1255\u001b[0;31m         \u001b[0manswer\u001b[0m \u001b[0;34m=\u001b[0m \u001b[0mself\u001b[0m\u001b[0;34m.\u001b[0m\u001b[0mgateway_client\u001b[0m\u001b[0;34m.\u001b[0m\u001b[0msend_command\u001b[0m\u001b[0;34m(\u001b[0m\u001b[0mcommand\u001b[0m\u001b[0;34m)\u001b[0m\u001b[0;34m\u001b[0m\u001b[0;34m\u001b[0m\u001b[0m\n\u001b[0m\u001b[1;32m   1256\u001b[0m         return_value = get_return_value(\n\u001b[1;32m   1257\u001b[0m             answer, self.gateway_client, self.target_id, self.name)\n",
      "\u001b[0;32m/anaconda3/lib/python3.6/site-packages/py4j/java_gateway.py\u001b[0m in \u001b[0;36msend_command\u001b[0;34m(self, command, retry, binary)\u001b[0m\n\u001b[1;32m    983\u001b[0m         \u001b[0mconnection\u001b[0m \u001b[0;34m=\u001b[0m \u001b[0mself\u001b[0m\u001b[0;34m.\u001b[0m\u001b[0m_get_connection\u001b[0m\u001b[0;34m(\u001b[0m\u001b[0;34m)\u001b[0m\u001b[0;34m\u001b[0m\u001b[0;34m\u001b[0m\u001b[0m\n\u001b[1;32m    984\u001b[0m         \u001b[0;32mtry\u001b[0m\u001b[0;34m:\u001b[0m\u001b[0;34m\u001b[0m\u001b[0;34m\u001b[0m\u001b[0m\n\u001b[0;32m--> 985\u001b[0;31m             \u001b[0mresponse\u001b[0m \u001b[0;34m=\u001b[0m \u001b[0mconnection\u001b[0m\u001b[0;34m.\u001b[0m\u001b[0msend_command\u001b[0m\u001b[0;34m(\u001b[0m\u001b[0mcommand\u001b[0m\u001b[0;34m)\u001b[0m\u001b[0;34m\u001b[0m\u001b[0;34m\u001b[0m\u001b[0m\n\u001b[0m\u001b[1;32m    986\u001b[0m             \u001b[0;32mif\u001b[0m \u001b[0mbinary\u001b[0m\u001b[0;34m:\u001b[0m\u001b[0;34m\u001b[0m\u001b[0;34m\u001b[0m\u001b[0m\n\u001b[1;32m    987\u001b[0m                 \u001b[0;32mreturn\u001b[0m \u001b[0mresponse\u001b[0m\u001b[0;34m,\u001b[0m \u001b[0mself\u001b[0m\u001b[0;34m.\u001b[0m\u001b[0m_create_connection_guard\u001b[0m\u001b[0;34m(\u001b[0m\u001b[0mconnection\u001b[0m\u001b[0;34m)\u001b[0m\u001b[0;34m\u001b[0m\u001b[0;34m\u001b[0m\u001b[0m\n",
      "\u001b[0;32m/anaconda3/lib/python3.6/site-packages/py4j/java_gateway.py\u001b[0m in \u001b[0;36msend_command\u001b[0;34m(self, command)\u001b[0m\n\u001b[1;32m   1150\u001b[0m \u001b[0;34m\u001b[0m\u001b[0m\n\u001b[1;32m   1151\u001b[0m         \u001b[0;32mtry\u001b[0m\u001b[0;34m:\u001b[0m\u001b[0;34m\u001b[0m\u001b[0;34m\u001b[0m\u001b[0m\n\u001b[0;32m-> 1152\u001b[0;31m             \u001b[0manswer\u001b[0m \u001b[0;34m=\u001b[0m \u001b[0msmart_decode\u001b[0m\u001b[0;34m(\u001b[0m\u001b[0mself\u001b[0m\u001b[0;34m.\u001b[0m\u001b[0mstream\u001b[0m\u001b[0;34m.\u001b[0m\u001b[0mreadline\u001b[0m\u001b[0;34m(\u001b[0m\u001b[0;34m)\u001b[0m\u001b[0;34m[\u001b[0m\u001b[0;34m:\u001b[0m\u001b[0;34m-\u001b[0m\u001b[0;36m1\u001b[0m\u001b[0;34m]\u001b[0m\u001b[0;34m)\u001b[0m\u001b[0;34m\u001b[0m\u001b[0;34m\u001b[0m\u001b[0m\n\u001b[0m\u001b[1;32m   1153\u001b[0m             \u001b[0mlogger\u001b[0m\u001b[0;34m.\u001b[0m\u001b[0mdebug\u001b[0m\u001b[0;34m(\u001b[0m\u001b[0;34m\"Answer received: {0}\"\u001b[0m\u001b[0;34m.\u001b[0m\u001b[0mformat\u001b[0m\u001b[0;34m(\u001b[0m\u001b[0manswer\u001b[0m\u001b[0;34m)\u001b[0m\u001b[0;34m)\u001b[0m\u001b[0;34m\u001b[0m\u001b[0;34m\u001b[0m\u001b[0m\n\u001b[1;32m   1154\u001b[0m             \u001b[0;32mif\u001b[0m \u001b[0manswer\u001b[0m\u001b[0;34m.\u001b[0m\u001b[0mstartswith\u001b[0m\u001b[0;34m(\u001b[0m\u001b[0mproto\u001b[0m\u001b[0;34m.\u001b[0m\u001b[0mRETURN_MESSAGE\u001b[0m\u001b[0;34m)\u001b[0m\u001b[0;34m:\u001b[0m\u001b[0;34m\u001b[0m\u001b[0;34m\u001b[0m\u001b[0m\n",
      "\u001b[0;32m/anaconda3/lib/python3.6/socket.py\u001b[0m in \u001b[0;36mreadinto\u001b[0;34m(self, b)\u001b[0m\n\u001b[1;32m    584\u001b[0m         \u001b[0;32mwhile\u001b[0m \u001b[0;32mTrue\u001b[0m\u001b[0;34m:\u001b[0m\u001b[0;34m\u001b[0m\u001b[0;34m\u001b[0m\u001b[0m\n\u001b[1;32m    585\u001b[0m             \u001b[0;32mtry\u001b[0m\u001b[0;34m:\u001b[0m\u001b[0;34m\u001b[0m\u001b[0;34m\u001b[0m\u001b[0m\n\u001b[0;32m--> 586\u001b[0;31m                 \u001b[0;32mreturn\u001b[0m \u001b[0mself\u001b[0m\u001b[0;34m.\u001b[0m\u001b[0m_sock\u001b[0m\u001b[0;34m.\u001b[0m\u001b[0mrecv_into\u001b[0m\u001b[0;34m(\u001b[0m\u001b[0mb\u001b[0m\u001b[0;34m)\u001b[0m\u001b[0;34m\u001b[0m\u001b[0;34m\u001b[0m\u001b[0m\n\u001b[0m\u001b[1;32m    587\u001b[0m             \u001b[0;32mexcept\u001b[0m \u001b[0mtimeout\u001b[0m\u001b[0;34m:\u001b[0m\u001b[0;34m\u001b[0m\u001b[0;34m\u001b[0m\u001b[0m\n\u001b[1;32m    588\u001b[0m                 \u001b[0mself\u001b[0m\u001b[0;34m.\u001b[0m\u001b[0m_timeout_occurred\u001b[0m \u001b[0;34m=\u001b[0m \u001b[0;32mTrue\u001b[0m\u001b[0;34m\u001b[0m\u001b[0;34m\u001b[0m\u001b[0m\n",
      "\u001b[0;31mKeyboardInterrupt\u001b[0m: "
     ]
    }
   ],
   "source": [
    "count = df_full.count()\n",
    "count"
   ]
  },
  {
   "cell_type": "code",
   "execution_count": 9,
   "metadata": {
    "collapsed": true
   },
   "outputs": [
    {
     "name": "stdout",
     "output_type": "stream",
     "text": [
      "+-----+--------------------+\n",
      "|index|           user_tags|\n",
      "+-----+--------------------+\n",
      "|    0|canon,canon+power...|\n",
      "|    1|                null|\n",
      "|    2|                null|\n",
      "|    3|blip,blip12ny,bli...|\n",
      "|    4|2009,amsterdam,cl...|\n",
      "|    5|ben,cdc,christchu...|\n",
      "|    6|                null|\n",
      "|    7|  diana,matt,wedding|\n",
      "|    8|bantockpark,fayre...|\n",
      "|    9|      2009,new,years|\n",
      "|   10|digikam,e.phelt,k...|\n",
      "|   11|                null|\n",
      "|   12|arches+national+p...|\n",
      "|   13|adelboden,neige,s...|\n",
      "|   14|                null|\n",
      "|   15|cech,cs,on+tour,p...|\n",
      "|   16|                null|\n",
      "|   17|         appart,chat|\n",
      "|   18|%D8%A2%D8%AB%D8%A...|\n",
      "|   19|                null|\n",
      "+-----+--------------------+\n",
      "only showing top 20 rows\n",
      "\n"
     ]
    }
   ],
   "source": [
    "df.createOrReplaceTempView(\"dataset\")\n",
    "list_ = spark.sql(\"SELECT index, user_tags FROM dataset\")\n",
    "list_.show()"
   ]
  },
  {
   "cell_type": "code",
   "execution_count": 14,
   "metadata": {},
   "outputs": [],
   "source": [
    "min_words_list_ = ['minimalis', 'минимализм', '极简主义', 'ミニマリズム', '미니멀리즘']"
   ]
  },
  {
   "cell_type": "code",
   "execution_count": 23,
   "metadata": {
    "collapsed": true
   },
   "outputs": [
    {
     "name": "stdout",
     "output_type": "stream",
     "text": [
      "+------+--------------------+\n",
      "| index|           user_tags|\n",
      "+------+--------------------+\n",
      "| 13558|afternoon,almost+...|\n",
      "| 34553|0xb69d80,cape+ten...|\n",
      "| 37075|a.schacht+90mm+2....|\n",
      "| 65415|ambience,appearan...|\n",
      "| 67744|abstract,beach,cl...|\n",
      "| 94518|b%C3%B6,boris,gam...|\n",
      "|108606|d80,door+light,mi...|\n",
      "|120211|ambience,appearan...|\n",
      "|134120|action,american,a...|\n",
      "|160303|concrete,library,...|\n",
      "|170802|animation,barefoo...|\n",
      "|171536|black,black+and+w...|\n",
      "|178141|china,d700,digita...|\n",
      "|194567|abstraction,candl...|\n",
      "|197353|berlin,minimal,mi...|\n",
      "|197893|architecture,cali...|\n",
      "|207656|chocolate+and+ste...|\n",
      "|234840|black+and+white,m...|\n",
      "|250039| minimalism,swallows|\n",
      "|264985|18thstreet,a6,arr...|\n",
      "+------+--------------------+\n",
      "only showing top 20 rows\n",
      "\n"
     ]
    }
   ],
   "source": [
    "#filter rows that contain a tag that starts with 'minimalis'\n",
    "list_ = list_.filter(col('user_tags').rlike('(minimalis)|(минимализм)|(极简主义)|(ミニマリズム)|(미니멀리즘)'))\n",
    "list_.show()"
   ]
  },
  {
   "cell_type": "code",
   "execution_count": 22,
   "metadata": {},
   "outputs": [
    {
     "data": {
      "text/plain": [
       "4356"
      ]
     },
     "execution_count": 22,
     "metadata": {},
     "output_type": "execute_result"
    }
   ],
   "source": [
    "list_.count()"
   ]
  },
  {
   "cell_type": "code",
   "execution_count": 25,
   "metadata": {},
   "outputs": [],
   "source": [
    "df_min_ = df_full.join(list_, [\"user_tags\"], \"inner\")"
   ]
  },
  {
   "cell_type": "code",
   "execution_count": 27,
   "metadata": {
    "collapsed": true
   },
   "outputs": [
    {
     "name": "stdout",
     "output_type": "stream",
     "text": [
      "+--------------------+--------+------------------+--------------------+---------------+-----------------+--------------------+-------------+--------------------+--------------------+--------------------+--------------------+---------+---------+---------+--------------------+--------------------+--------------------+--------------------+-----------------+---------+------------------+------------------+------+------------+--------+\n",
      "|           user_tags|   index|unknown_identifier|           unknown_1|user_identifier|         username|                date|computer_time|              camera|      photo_filename|         description|external_upload_mean|longitude| latitude|unknown_2|          flickr_url|    image_direct_url|        license_name|         license_doc|flickr_photo_pool|unknown_3|image_identifier_2|image_identifier_1|format|unknown_bool|   index|\n",
      "+--------------------+--------+------------------+--------------------+---------------+-----------------+--------------------+-------------+--------------------+--------------------+--------------------+--------------------+---------+---------+---------+--------------------+--------------------+--------------------+--------------------+-----------------+---------+------------------+------------------+------+------------+--------+\n",
      "|1-5-fav,5-10-fav,...|29951782|          57980066|99a5ddb18dabbe6a4...|   42586826@N00|   %3E+Josean+%3C|2005-10-31 11:21:...|   1130754803|                null|        Equilibris+2|                null|                null|     null|     null|     null|http://www.flickr...|http://farm1.stat...|Attribution-NonCo...|http://creativeco...|               24|        1|        de9979c44c|        de9979c44c|   jpg|           0|29951782|\n",
      "|10%2Bfaves,abstra...| 7376551|        1807250675|cc5d2242e22383d84...|   74148640@N00|            cirox|2007-10-31 10:14:...|   1193822062|                null|               Space|%3Ca+href%3D%22ht...|                null|15.077362| 37.51735|       10|http://www.flickr...|http://farm3.stat...|Attribution-NonCo...|http://creativeco...|             2326|        3|        9f6b6c78e2|        8e3410c84a|   jpg|           0| 7376551|\n",
      "|10369,aldi,berlin...|21671385|        8311272424|d537b59141f309eaf...|   24785793@N04|Alexander+Rentsch|2011-05-21 12:53:...|   1356538406|        Canon+EOS+7D|         BORlin+%23I|Berlin%0AAldi-Fil...|                null|     null|     null|     null|http://www.flickr...|http://farm9.stat...|Attribution-NonCo...|http://creativeco...|             8081|        9|        74078fe35b|        c05235b343|   jpg|           0|21671385|\n",
      "|3171,art,bathroom...|39411255|        2698347812|90c648b00844f503a...|   71401718@N00|       Wonderlane|2008-07-23 03:24:...|   1216891047|NIKON+CORPORATION...|W+-+art+light+in+...|                null|                null|     null|     null|     null|http://www.flickr...|http://farm4.stat...|Attribution-NonCo...|http://creativeco...|             3069|        4|        e8b94dcb15|        6c6a605f51|   jpg|           0|39411255|\n",
      "|aalborg,architect...|19837793|        5567175201|2622d3522ecf97be5...|   92666428@N00|      galimathies|2011-03-21 16:38:...|   1301309165|        Canon+EOS+7D|           Vesterbro|                null|                null|     null|     null|     null|http://www.flickr...|http://farm6.stat...|Attribution-NonCo...|http://creativeco...|             5181|        6|        b9d2a92c90|        03934f6566|   jpg|           0|19837793|\n",
      "|aalborg,architect...|19837793|        5567175201|2622d3522ecf97be5...|   92666428@N00|      galimathies|2011-03-21 16:38:...|   1301309165|        Canon+EOS+7D|           Vesterbro|                null|                null|     null|     null|     null|http://www.flickr...|http://farm6.stat...|Attribution-NonCo...|http://creativeco...|             5181|        6|        b9d2a92c90|        03934f6566|   jpg|           0|26635537|\n",
      "|aalborg,architect...|19837793|        5567175201|2622d3522ecf97be5...|   92666428@N00|      galimathies|2011-03-21 16:38:...|   1301309165|        Canon+EOS+7D|           Vesterbro|                null|                null|     null|     null|     null|http://www.flickr...|http://farm6.stat...|Attribution-NonCo...|http://creativeco...|             5181|        6|        b9d2a92c90|        03934f6566|   jpg|           0|52868444|\n",
      "|aalborg,architect...|26635537|        5567182075|edf03bdf523ce6ff0...|   92666428@N00|      galimathies|2011-03-23 16:33:...|   1301309400|        Canon+EOS+7D|    Maren+Turis+Gade|                null|                null|     null|     null|     null|http://www.flickr...|http://farm6.stat...|Attribution-NonCo...|http://creativeco...|             5020|        6|        bae0b50b18|        8c9fc5bc63|   jpg|           0|19837793|\n",
      "|aalborg,architect...|26635537|        5567182075|edf03bdf523ce6ff0...|   92666428@N00|      galimathies|2011-03-23 16:33:...|   1301309400|        Canon+EOS+7D|    Maren+Turis+Gade|                null|                null|     null|     null|     null|http://www.flickr...|http://farm6.stat...|Attribution-NonCo...|http://creativeco...|             5020|        6|        bae0b50b18|        8c9fc5bc63|   jpg|           0|26635537|\n",
      "|aalborg,architect...|26635537|        5567182075|edf03bdf523ce6ff0...|   92666428@N00|      galimathies|2011-03-23 16:33:...|   1301309400|        Canon+EOS+7D|    Maren+Turis+Gade|                null|                null|     null|     null|     null|http://www.flickr...|http://farm6.stat...|Attribution-NonCo...|http://creativeco...|             5020|        6|        bae0b50b18|        8c9fc5bc63|   jpg|           0|52868444|\n",
      "|aalborg,architect...|52868444|        5567183591|d6dfe93bb2c52a40a...|   92666428@N00|      galimathies|2011-03-23 16:34:...|   1301309451|        Canon+EOS+7D|    Maren+Turis+Gade|                null|                null|     null|     null|     null|http://www.flickr...|http://farm6.stat...|Attribution-NonCo...|http://creativeco...|             5256|        6|        af3fa5e5e6|        3c5e36525d|   jpg|           0|19837793|\n",
      "|aalborg,architect...|52868444|        5567183591|d6dfe93bb2c52a40a...|   92666428@N00|      galimathies|2011-03-23 16:34:...|   1301309451|        Canon+EOS+7D|    Maren+Turis+Gade|                null|                null|     null|     null|     null|http://www.flickr...|http://farm6.stat...|Attribution-NonCo...|http://creativeco...|             5256|        6|        af3fa5e5e6|        3c5e36525d|   jpg|           0|26635537|\n",
      "|aalborg,architect...|52868444|        5567183591|d6dfe93bb2c52a40a...|   92666428@N00|      galimathies|2011-03-23 16:34:...|   1301309451|        Canon+EOS+7D|    Maren+Turis+Gade|                null|                null|     null|     null|     null|http://www.flickr...|http://farm6.stat...|Attribution-NonCo...|http://creativeco...|             5256|        6|        af3fa5e5e6|        3c5e36525d|   jpg|           0|52868444|\n",
      "|architect,archite...|50674305|        2902804009|af7717d87c5965942...|    7179900@N05|          dysturb|2008-09-12 14:02:...|   1222824767|         SONY+DSC-R1|Venice+Biennale+-...|%3Ca+href%3D%22ht...|                null|     null|     null|     null|http://www.flickr...|http://farm4.stat...|Attribution-NonCo...|http://creativeco...|             3156|        4|        358ac4bf2f|        5b61b7d42e|   jpg|           0|50674305|\n",
      "|architecture,arki...|30017602|         534866892|ca44a4748665ce699...|   94852245@N00|    seier%2Bseier|2007-05-29 14:56:...|   1181243096|OLYMPUS+CORPORATI...|             familie|tilsyn+for+tegnes...|                null|12.546992|55.650376|       16|http://www.flickr...|http://farm2.stat...| Attribution License|http://creativeco...|             1205|        2|        4e21cf744c|        0c6ca7b0c7|   jpg|           0|30017602|\n",
      "|azul,blue,brasil,...|40521310|       10009283934|1835e05d41a1828a8...|   24549033@N08|         AnaElisa|2012-06-07 15:10:...|   1380497335|SAMSUNG+PL120%2CP...|                null|     Curitiba%2C+PR.|                null|     null|     null|     null|http://www.flickr...|http://farm4.stat...|Attribution-NonCo...|http://creativeco...|             3718|        4|        cd53926855|        8c12922639|   jpg|           0|40521310|\n",
      "|bird,colomba,mini...|29372708|        4012190577|7cd69db410c2e2536...|   31441103@N00|     scaramuzzino|2008-03-29 17:46:...|   1255564588|Canon+EOS+300D+DI...|                null|                null|                null|11.234625|43.818473|       16|http://www.flickr...|http://farm4.stat...|Attribution-NonCo...|http://creativeco...|             3483|        4|        95fcfe9202|        3aa3ba3bd7|   jpg|           0|29372708|\n",
      "|birds,disappointe...|37806811|        4284473809|984763c3f436d75a9...|   36724437@N03|   simone%7Ccento|2010-01-18 14:12:...|   1263827661|      Canon+EOS+450D|        Disappointed|Realized+with+Can...|                null|     null|     null|     null|http://www.flickr...|http://farm5.stat...|Attribution-NonCo...|http://creativeco...|             4040|        5|        35e81e3cfc|        73cbb24da9|   jpg|           0|37806811|\n",
      "|black+and+white,b...| 8861731|        6232428833|e53cbd37b83b97b5a...|   63090662@N06|  Trevor+Stoddart|2011-10-09 20:53:...|   1318296374| Canon+PowerShot+S95|          Break+Wall|Minimalist+Black+...|                null|     null|     null|     null|http://www.flickr...|http://farm7.stat...|Attribution-NoDer...|http://creativeco...|             6045|        7|        19283fd9d6|        909fec221d|   jpg|           0| 8861731|\n",
      "|black+and+white,m...|  234840|        3438532670|6c44dac1eab36cc6c...|   14675226@N00|         pacmikey|2009-04-10 09:21:...|   1239634243|NIKON+CORPORATION...|        Wooden+Steps|  Some+wooden+steps.|                null|     null|     null|     null|http://www.flickr...|http://farm4.stat...| Attribution License|http://creativeco...|             3366|        4|        6d7fde7021|        55ec2b88a2|   jpg|           0|  234840|\n",
      "+--------------------+--------+------------------+--------------------+---------------+-----------------+--------------------+-------------+--------------------+--------------------+--------------------+--------------------+---------+---------+---------+--------------------+--------------------+--------------------+--------------------+-----------------+---------+------------------+------------------+------+------------+--------+\n",
      "only showing top 20 rows\n",
      "\n"
     ]
    }
   ],
   "source": [
    "df_min_.show()"
   ]
  },
  {
   "cell_type": "code",
   "execution_count": 29,
   "metadata": {},
   "outputs": [],
   "source": [
    "#df_min_.toPandas().to_csv('data/minimalis_tag_dataset.csv')\n",
    "df_min_.write.format(\"csv\").option(\"delimiter\", \"\\t\").save('data/minimalis_tag_dataset.csv')"
   ]
  },
  {
   "cell_type": "markdown",
   "metadata": {},
   "source": [
    "# Autotags dataset"
   ]
  },
  {
   "cell_type": "code",
   "execution_count": 6,
   "metadata": {},
   "outputs": [],
   "source": [
    "df = spark.read.format(\"csv\").option(\"delimiter\", \"\\t\").load(\"yfcc100m_autotags.csv\")"
   ]
  },
  {
   "cell_type": "code",
   "execution_count": 7,
   "metadata": {},
   "outputs": [],
   "source": [
    "col_names = ['data_identifier', 'autotags']"
   ]
  },
  {
   "cell_type": "code",
   "execution_count": 8,
   "metadata": {},
   "outputs": [],
   "source": [
    "for i in range(len(col_names)):\n",
    "    df = df.withColumnRenamed('_c' + str(i), col_names[i])"
   ]
  },
  {
   "cell_type": "code",
   "execution_count": 9,
   "metadata": {},
   "outputs": [
    {
     "name": "stdout",
     "output_type": "stream",
     "text": [
      "+---------------+--------------------+\n",
      "|data_identifier|            autotags|\n",
      "+---------------+--------------------+\n",
      "|     6985418911|atoll:0.5220,bay:...|\n",
      "+---------------+--------------------+\n",
      "only showing top 1 row\n",
      "\n"
     ]
    }
   ],
   "source": [
    "df.show(1)"
   ]
  },
  {
   "cell_type": "code",
   "execution_count": 10,
   "metadata": {},
   "outputs": [],
   "source": [
    "df.createOrReplaceTempView(\"dataset\")\n",
    "list_ = spark.sql(\"SELECT data_identifier, autotags FROM dataset\")"
   ]
  },
  {
   "cell_type": "code",
   "execution_count": 11,
   "metadata": {},
   "outputs": [],
   "source": [
    "list_ = list_.filter(col('autotags').rlike('(minimalis)|(минимализм)|(极简主义)|(ミニマリズム)|(미니멀리즘)'))"
   ]
  },
  {
   "cell_type": "code",
   "execution_count": 12,
   "metadata": {},
   "outputs": [
    {
     "name": "stdout",
     "output_type": "stream",
     "text": [
      "+---------------+--------------------+\n",
      "|data_identifier|            autotags|\n",
      "+---------------+--------------------+\n",
      "|     6295196910|abstract:0.9150,a...|\n",
      "|     5392941214|abstract:0.6880,a...|\n",
      "|     2418950445|abstract:0.9080,a...|\n",
      "|     2397482849|art:0.5260,curve:...|\n",
      "|     8274058040|aircraft:0.5340,a...|\n",
      "+---------------+--------------------+\n",
      "only showing top 5 rows\n",
      "\n"
     ]
    }
   ],
   "source": [
    "list_.show(5)"
   ]
  },
  {
   "cell_type": "code",
   "execution_count": 13,
   "metadata": {},
   "outputs": [],
   "source": [
    "df_min_autotags = df_full.join(list_, [\"data_identifier\"], \"inner\")"
   ]
  },
  {
   "cell_type": "code",
   "execution_count": 16,
   "metadata": {},
   "outputs": [],
   "source": [
    "df_min_autotags.write.format(\"csv\").option(\"delimiter\", \"\\t\").save('data/minimalis_autotag_subset.csv')"
   ]
  },
  {
   "cell_type": "markdown",
   "metadata": {},
   "source": [
    "## Check and merge csv files"
   ]
  },
  {
   "cell_type": "code",
   "execution_count": 88,
   "metadata": {},
   "outputs": [],
   "source": [
    "def keep_high_proba(df):\n",
    "    \n",
    "    df_ = df.copy()\n",
    "    list_ = []\n",
    "    for ind, item in df['autotags'].iteritems():\n",
    "        val = re.findall('(?<=(minimalism:0.))([0-9]+)', item)[0][1][0]\n",
    "        if int(val) >= 6:\n",
    "            list_.append(ind)\n",
    "    \n",
    "    df_ = df_.iloc[list_]\n",
    "    return list_"
   ]
  },
  {
   "cell_type": "code",
   "execution_count": 34,
   "metadata": {},
   "outputs": [],
   "source": [
    "DATA = 'data/minimalis_autotag_subset.csv/'\n",
    "headers = ['index', 'data_identifier', 'unknown_1', 'user_identifier', 'username', 'date', \n",
    "           'computer_time', 'camera', 'photo_filename', 'description', 'user_tags', 'external_upload_mean',\n",
    "           'longitude', 'latitude', 'unknown_2', 'flickr_url', 'image_direct_url', 'license_name', \n",
    "           'license_doc', 'flickr_photo_pool', 'unknown_3', 'image_identifier_2', 'image_identifier_1', \n",
    "           'format', 'unknown_bool', 'autotags']\n",
    "\n",
    "folder = os.listdir(DATA)  "
   ]
  },
  {
   "cell_type": "code",
   "execution_count": 43,
   "metadata": {},
   "outputs": [],
   "source": [
    "folder_ = []\n",
    "for file in folder:\n",
    "    if (file[0] != '.') & (file[0] != '_'):\n",
    "        folder_.append(file)\n",
    "folder = folder_"
   ]
  },
  {
   "cell_type": "code",
   "execution_count": 91,
   "metadata": {},
   "outputs": [
    {
     "name": "stdout",
     "output_type": "stream",
     "text": [
      "........................................................................................................................................................................................................"
     ]
    }
   ],
   "source": [
    "df_autotags = pd.DataFrame({})\n",
    "for file in folder:\n",
    "    df_ = pd.read_csv(DATA + file, sep = '\\t', names = headers)\n",
    "    df_autotags = pd.concat([df_autotags, df_])\n",
    "    df_autotags = df_autotags.drop_duplicates(subset = 'index')\n",
    "    print('.', end = '') "
   ]
  },
  {
   "cell_type": "code",
   "execution_count": 92,
   "metadata": {},
   "outputs": [],
   "source": [
    "keep_columns = ['index', 'user_identifier', 'description', 'date', 'longitude', 'latitude',\n",
    "                'external_upload_mean', 'camera', 'license_name', 'flickr_url', 'image_direct_url',\n",
    "                'user_tags', 'autotags']"
   ]
  },
  {
   "cell_type": "code",
   "execution_count": 93,
   "metadata": {},
   "outputs": [],
   "source": [
    "df_autotags = df_autotags[keep_columns]"
   ]
  },
  {
   "cell_type": "code",
   "execution_count": 95,
   "metadata": {},
   "outputs": [
    {
     "data": {
      "text/html": [
       "<div>\n",
       "<style scoped>\n",
       "    .dataframe tbody tr th:only-of-type {\n",
       "        vertical-align: middle;\n",
       "    }\n",
       "\n",
       "    .dataframe tbody tr th {\n",
       "        vertical-align: top;\n",
       "    }\n",
       "\n",
       "    .dataframe thead th {\n",
       "        text-align: right;\n",
       "    }\n",
       "</style>\n",
       "<table border=\"1\" class=\"dataframe\">\n",
       "  <thead>\n",
       "    <tr style=\"text-align: right;\">\n",
       "      <th></th>\n",
       "      <th>index</th>\n",
       "      <th>user_identifier</th>\n",
       "      <th>description</th>\n",
       "      <th>date</th>\n",
       "      <th>longitude</th>\n",
       "      <th>latitude</th>\n",
       "      <th>external_upload_mean</th>\n",
       "      <th>camera</th>\n",
       "      <th>license_name</th>\n",
       "      <th>flickr_url</th>\n",
       "      <th>image_direct_url</th>\n",
       "      <th>user_tags</th>\n",
       "      <th>autotags</th>\n",
       "    </tr>\n",
       "  </thead>\n",
       "  <tbody>\n",
       "    <tr>\n",
       "      <th>0</th>\n",
       "      <td>10000979206</td>\n",
       "      <td>66172503@N00</td>\n",
       "      <td>NaN</td>\n",
       "      <td>2013-09-30 00:26:09.0</td>\n",
       "      <td>14.499968</td>\n",
       "      <td>46.053249</td>\n",
       "      <td>foursquare%3Avenue%3D4e2b1e5a315185636a08f0dd,...</td>\n",
       "      <td>NaN</td>\n",
       "      <td>Attribution License</td>\n",
       "      <td>http://www.flickr.com/photos/66172503@N00/1000...</td>\n",
       "      <td>http://farm4.staticflickr.com/3702/10000979206...</td>\n",
       "      <td>instagram+app,iphoneography,nashville,square,s...</td>\n",
       "      <td>abstract:0.8090,architecture:0.9030,bright:0.6...</td>\n",
       "    </tr>\n",
       "  </tbody>\n",
       "</table>\n",
       "</div>"
      ],
      "text/plain": [
       "         index user_identifier description                   date  longitude  \\\n",
       "0  10000979206    66172503@N00         NaN  2013-09-30 00:26:09.0  14.499968   \n",
       "\n",
       "    latitude                               external_upload_mean camera  \\\n",
       "0  46.053249  foursquare%3Avenue%3D4e2b1e5a315185636a08f0dd,...    NaN   \n",
       "\n",
       "          license_name                                         flickr_url  \\\n",
       "0  Attribution License  http://www.flickr.com/photos/66172503@N00/1000...   \n",
       "\n",
       "                                    image_direct_url  \\\n",
       "0  http://farm4.staticflickr.com/3702/10000979206...   \n",
       "\n",
       "                                           user_tags  \\\n",
       "0  instagram+app,iphoneography,nashville,square,s...   \n",
       "\n",
       "                                            autotags  \n",
       "0  abstract:0.8090,architecture:0.9030,bright:0.6...  "
      ]
     },
     "execution_count": 95,
     "metadata": {},
     "output_type": "execute_result"
    }
   ],
   "source": [
    "df_autotags.head(1)"
   ]
  },
  {
   "cell_type": "code",
   "execution_count": 97,
   "metadata": {},
   "outputs": [],
   "source": [
    "df_tags = pd.read_csv('data/minimalis_tag_dataset.csv').drop(columns = 'Unnamed: 0')\n",
    "df_tags['autotags'] = np.nan\n",
    "df_tags = df_tags[keep_columns]"
   ]
  },
  {
   "cell_type": "code",
   "execution_count": 99,
   "metadata": {},
   "outputs": [],
   "source": [
    "df = pd.concat([df_autotags, df_tags])\n",
    "df = df.drop_duplicates(subset = 'index')"
   ]
  },
  {
   "cell_type": "code",
   "execution_count": 100,
   "metadata": {},
   "outputs": [
    {
     "data": {
      "text/plain": [
       "1032133"
      ]
     },
     "execution_count": 100,
     "metadata": {},
     "output_type": "execute_result"
    }
   ],
   "source": [
    "len(df)"
   ]
  },
  {
   "cell_type": "code",
   "execution_count": 101,
   "metadata": {},
   "outputs": [],
   "source": [
    "df.to_csv('data/corpus.csv')"
   ]
  },
  {
   "cell_type": "code",
   "execution_count": null,
   "metadata": {},
   "outputs": [],
   "source": []
  }
 ],
 "metadata": {
  "kernelspec": {
   "display_name": "Python 3",
   "language": "python",
   "name": "python3"
  },
  "language_info": {
   "codemirror_mode": {
    "name": "ipython",
    "version": 3
   },
   "file_extension": ".py",
   "mimetype": "text/x-python",
   "name": "python",
   "nbconvert_exporter": "python",
   "pygments_lexer": "ipython3",
   "version": "3.6.7"
  }
 },
 "nbformat": 4,
 "nbformat_minor": 2
}
