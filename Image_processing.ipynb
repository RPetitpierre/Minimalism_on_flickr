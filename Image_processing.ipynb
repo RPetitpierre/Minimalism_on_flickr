{
 "cells": [
  {
   "cell_type": "code",
   "execution_count": 1,
   "metadata": {},
   "outputs": [],
   "source": [
    "import pandas as pd\n",
    "import numpy as np\n",
    "import urllib.request\n",
    "import cv2\n",
    "import time"
   ]
  },
  {
   "cell_type": "code",
   "execution_count": 2,
   "metadata": {},
   "outputs": [],
   "source": [
    "df = pd.read_csv('data/corpus.csv').drop(columns = 'Unnamed: 0')"
   ]
  },
  {
   "cell_type": "code",
   "execution_count": 3,
   "metadata": {},
   "outputs": [
    {
     "data": {
      "text/html": [
       "<div>\n",
       "<style scoped>\n",
       "    .dataframe tbody tr th:only-of-type {\n",
       "        vertical-align: middle;\n",
       "    }\n",
       "\n",
       "    .dataframe tbody tr th {\n",
       "        vertical-align: top;\n",
       "    }\n",
       "\n",
       "    .dataframe thead th {\n",
       "        text-align: right;\n",
       "    }\n",
       "</style>\n",
       "<table border=\"1\" class=\"dataframe\">\n",
       "  <thead>\n",
       "    <tr style=\"text-align: right;\">\n",
       "      <th></th>\n",
       "      <th>index</th>\n",
       "      <th>user_identifier</th>\n",
       "      <th>description</th>\n",
       "      <th>date</th>\n",
       "      <th>longitude</th>\n",
       "      <th>latitude</th>\n",
       "      <th>external_upload_mean</th>\n",
       "      <th>camera</th>\n",
       "      <th>license_name</th>\n",
       "      <th>flickr_url</th>\n",
       "      <th>image_direct_url</th>\n",
       "      <th>user_tags</th>\n",
       "      <th>autotags</th>\n",
       "    </tr>\n",
       "  </thead>\n",
       "  <tbody>\n",
       "    <tr>\n",
       "      <th>0</th>\n",
       "      <td>10000979206</td>\n",
       "      <td>66172503@N00</td>\n",
       "      <td>NaN</td>\n",
       "      <td>2013-09-30 00:26:09.0</td>\n",
       "      <td>14.499968</td>\n",
       "      <td>46.053249</td>\n",
       "      <td>foursquare%3Avenue%3D4e2b1e5a315185636a08f0dd,...</td>\n",
       "      <td>NaN</td>\n",
       "      <td>Attribution License</td>\n",
       "      <td>http://www.flickr.com/photos/66172503@N00/1000...</td>\n",
       "      <td>http://farm4.staticflickr.com/3702/10000979206...</td>\n",
       "      <td>instagram+app,iphoneography,nashville,square,s...</td>\n",
       "      <td>abstract:0.8090,architecture:0.9030,bright:0.6...</td>\n",
       "    </tr>\n",
       "  </tbody>\n",
       "</table>\n",
       "</div>"
      ],
      "text/plain": [
       "         index user_identifier description                   date  longitude  \\\n",
       "0  10000979206    66172503@N00         NaN  2013-09-30 00:26:09.0  14.499968   \n",
       "\n",
       "    latitude                               external_upload_mean camera  \\\n",
       "0  46.053249  foursquare%3Avenue%3D4e2b1e5a315185636a08f0dd,...    NaN   \n",
       "\n",
       "          license_name                                         flickr_url  \\\n",
       "0  Attribution License  http://www.flickr.com/photos/66172503@N00/1000...   \n",
       "\n",
       "                                    image_direct_url  \\\n",
       "0  http://farm4.staticflickr.com/3702/10000979206...   \n",
       "\n",
       "                                           user_tags  \\\n",
       "0  instagram+app,iphoneography,nashville,square,s...   \n",
       "\n",
       "                                            autotags  \n",
       "0  abstract:0.8090,architecture:0.9030,bright:0.6...  "
      ]
     },
     "execution_count": 3,
     "metadata": {},
     "output_type": "execute_result"
    }
   ],
   "source": [
    "df.head(1)"
   ]
  },
  {
   "cell_type": "code",
   "execution_count": 4,
   "metadata": {},
   "outputs": [],
   "source": [
    "def url_to_image(url):\n",
    "    # download the image, convert it to a NumPy array, and then read\n",
    "    # it into OpenCV format\n",
    "    try:\n",
    "        resp = urllib.request.urlopen(url)\n",
    "    except:\n",
    "        return np.zeros((1,1))\n",
    "    \n",
    "    image = np.asarray(bytearray(resp.read()), dtype=\"uint8\")\n",
    "    image = cv2.imdecode(image, cv2.IMREAD_COLOR)\n",
    " \n",
    "    # return the image\n",
    "    return image"
   ]
  },
  {
   "cell_type": "code",
   "execution_count": 59,
   "metadata": {},
   "outputs": [],
   "source": [
    "def extract_infos(urls, max_stored = 1000):\n",
    "    \n",
    "    urls_todo = urls.values.tolist()\n",
    "    colored = []\n",
    "    \n",
    "    while len(urls_todo) > 0:\n",
    "        \n",
    "        images = []\n",
    "        \n",
    "        # Scrap a first set of images\n",
    "        for url in urls_todo[:max_stored]:\n",
    "            images.append(url_to_image(url))\n",
    "        \n",
    "        # Remove non-found entries\n",
    "        for i in range(len(images)):\n",
    "            try:\n",
    "                if images[i].shape[0] == 1:\n",
    "                    colored.append(np.nan)\n",
    "                    continue\n",
    "            except:\n",
    "                print('ERROR with image:', urls_todo[:max_stored][i], 'type', type(urls_todo[:max_stored][i]))\n",
    "                colored.append(np.nan)\n",
    "                continue\n",
    "            \n",
    "            # Color / b&w info\n",
    "            if images[i].shape[2] == 3:\n",
    "                colored.append(1)\n",
    "            else:\n",
    "                colored.append(0)            \n",
    "        \n",
    "        urls_todo = urls_todo[max_stored:]\n",
    "        time.sleep(2)\n",
    "                \n",
    "    return colored\n",
    "        "
   ]
  },
  {
   "cell_type": "code",
   "execution_count": 60,
   "metadata": {},
   "outputs": [],
   "source": [
    "urls = df['image_direct_url'][:1000]"
   ]
  },
  {
   "cell_type": "code",
   "execution_count": 61,
   "metadata": {},
   "outputs": [
    {
     "name": "stdout",
     "output_type": "stream",
     "text": [
      "ERROR with image: http://www.flickr.com/videos/87258464@N00/11589389194/play/orig/4c6a32727f . type <class 'str'>\n",
      "-242.4047520160675\n"
     ]
    }
   ],
   "source": [
    "start = time.time()\n",
    "colored = extract_infos(urls, max_stored = 250)\n",
    "print(start - time.time())"
   ]
  },
  {
   "cell_type": "code",
   "execution_count": 63,
   "metadata": {},
   "outputs": [
    {
     "data": {
      "text/html": [
       "<div>\n",
       "<style scoped>\n",
       "    .dataframe tbody tr th:only-of-type {\n",
       "        vertical-align: middle;\n",
       "    }\n",
       "\n",
       "    .dataframe tbody tr th {\n",
       "        vertical-align: top;\n",
       "    }\n",
       "\n",
       "    .dataframe thead th {\n",
       "        text-align: right;\n",
       "    }\n",
       "</style>\n",
       "<table border=\"1\" class=\"dataframe\">\n",
       "  <thead>\n",
       "    <tr style=\"text-align: right;\">\n",
       "      <th></th>\n",
       "      <th>index</th>\n",
       "      <th>user_identifier</th>\n",
       "      <th>description</th>\n",
       "      <th>date</th>\n",
       "      <th>longitude</th>\n",
       "      <th>latitude</th>\n",
       "      <th>external_upload_mean</th>\n",
       "      <th>camera</th>\n",
       "      <th>license_name</th>\n",
       "      <th>flickr_url</th>\n",
       "      <th>image_direct_url</th>\n",
       "      <th>user_tags</th>\n",
       "      <th>autotags</th>\n",
       "    </tr>\n",
       "  </thead>\n",
       "  <tbody>\n",
       "    <tr>\n",
       "      <th>0</th>\n",
       "      <td>10000979206</td>\n",
       "      <td>66172503@N00</td>\n",
       "      <td>NaN</td>\n",
       "      <td>2013-09-30 00:26:09.0</td>\n",
       "      <td>14.499968</td>\n",
       "      <td>46.053249</td>\n",
       "      <td>foursquare%3Avenue%3D4e2b1e5a315185636a08f0dd,...</td>\n",
       "      <td>NaN</td>\n",
       "      <td>Attribution License</td>\n",
       "      <td>http://www.flickr.com/photos/66172503@N00/1000...</td>\n",
       "      <td>http://farm4.staticflickr.com/3702/10000979206...</td>\n",
       "      <td>instagram+app,iphoneography,nashville,square,s...</td>\n",
       "      <td>abstract:0.8090,architecture:0.9030,bright:0.6...</td>\n",
       "    </tr>\n",
       "  </tbody>\n",
       "</table>\n",
       "</div>"
      ],
      "text/plain": [
       "         index user_identifier description                   date  longitude  \\\n",
       "0  10000979206    66172503@N00         NaN  2013-09-30 00:26:09.0  14.499968   \n",
       "\n",
       "    latitude                               external_upload_mean camera  \\\n",
       "0  46.053249  foursquare%3Avenue%3D4e2b1e5a315185636a08f0dd,...    NaN   \n",
       "\n",
       "          license_name                                         flickr_url  \\\n",
       "0  Attribution License  http://www.flickr.com/photos/66172503@N00/1000...   \n",
       "\n",
       "                                    image_direct_url  \\\n",
       "0  http://farm4.staticflickr.com/3702/10000979206...   \n",
       "\n",
       "                                           user_tags  \\\n",
       "0  instagram+app,iphoneography,nashville,square,s...   \n",
       "\n",
       "                                            autotags  \n",
       "0  abstract:0.8090,architecture:0.9030,bright:0.6...  "
      ]
     },
     "execution_count": 63,
     "metadata": {},
     "output_type": "execute_result"
    }
   ],
   "source": [
    "df.head(1)"
   ]
  },
  {
   "cell_type": "code",
   "execution_count": null,
   "metadata": {},
   "outputs": [],
   "source": []
  },
  {
   "cell_type": "code",
   "execution_count": null,
   "metadata": {},
   "outputs": [],
   "source": []
  },
  {
   "cell_type": "code",
   "execution_count": null,
   "metadata": {},
   "outputs": [],
   "source": []
  },
  {
   "cell_type": "code",
   "execution_count": null,
   "metadata": {},
   "outputs": [],
   "source": []
  }
 ],
 "metadata": {
  "kernelspec": {
   "display_name": "Python 3",
   "language": "python",
   "name": "python3"
  },
  "language_info": {
   "codemirror_mode": {
    "name": "ipython",
    "version": 3
   },
   "file_extension": ".py",
   "mimetype": "text/x-python",
   "name": "python",
   "nbconvert_exporter": "python",
   "pygments_lexer": "ipython3",
   "version": "3.6.7"
  }
 },
 "nbformat": 4,
 "nbformat_minor": 2
}
